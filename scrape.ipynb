{
 "cells": [
  {
   "cell_type": "code",
   "execution_count": 1,
   "metadata": {},
   "outputs": [
    {
     "name": "stdout",
     "output_type": "stream",
     "text": [
      "['raw_ingr', 'raw_words', 'processed', 'len_proc', 'replaced', 'count', 'id']\n",
      "[['medium heads bibb or red leaf lettuce, washed, dried* and torn into pieces', 13, 'medium heads bibb or red leaf lettuce, washed, dried* and torn into piece', 73, 'lettuce', 4507, 4308]]\n",
      "[['mixed baby lettuces and spring greens', 6, 'mixed baby lettuces and spring green', 36, 'lettuce', 4507, 4308]]\n",
      "[['romaine lettuce leaf', 3, 'romaine lettuce leaf', 20, 'lettuce', 4507, 4308]]\n",
      "[['iceberg lettuce leaf', 3, 'iceberg lettuce leaf', 20, 'lettuce', 4507, 4308]]\n",
      "[['red romaine lettuce', 3, 'red romaine lettuce', 19, 'lettuce', 4507, 4308]]\n",
      "id, i, name_tokens, ingredient_tokens, steps_tokens, techniques, calorie_level, ingredient_ids\n",
      "The longest recipe has 20 ingredients.\n",
      "There are 178265 recipes.\n",
      "Saving recipe bows as a pickle file...\n",
      "Saved recipe ingredient bows to recipe_ingredient_bows.pkl\n"
     ]
    }
   ],
   "source": [
    "import pickle\n",
    "import csv\n",
    "\n",
    "with open('archive/ingr_map.pkl', 'rb') as ingredient_map:\n",
    "    df = pickle.load(ingredient_map)\n",
    "\n",
    "print([col for col in df.columns])\n",
    "\n",
    "for row in range(5):\n",
    "    print(df.loc[[row]].values.tolist())\n",
    "\n",
    "ingredient_dictionary = {}\n",
    "\n",
    "for index, row in df.iterrows():\n",
    "    # print(row['replaced'], row['id'])\n",
    "    ingredient_dictionary[row['id']] = row['replaced']\n",
    "\n",
    "# print(ingredient_dictionary)\n",
    "\n",
    "recipe_list = []\n",
    "\n",
    "longest_list = 0\n",
    "\n",
    "with open('archive/PP_recipes.csv') as csv_file:\n",
    "    csv_reader = csv.reader(csv_file, delimiter=',')\n",
    "    current_line = 0\n",
    "    for row in csv_reader:\n",
    "        if current_line == 0:\n",
    "            print(\", \".join(row))\n",
    "        else:\n",
    "            string_list = row[7][1:-1]\n",
    "            ingredient_list = [ingredient_dictionary[int(ingr_id)] for ingr_id in string_list.split(\", \")]\n",
    "            recipe_list.append(ingredient_list)\n",
    "            longest_list = max(longest_list, len(ingredient_list))\n",
    "        current_line += 1\n",
    "\n",
    "print(\"The longest recipe has\", longest_list, \"ingredients.\")\n",
    "print(\"There are\", len(recipe_list), \"recipes.\")\n",
    "print(\"Saving recipe bows as a pickle file...\")\n",
    "with open('recipe_ingredient_bows.pkl', 'wb') as f:\n",
    "    pickle.dump(recipe_list, f)\n",
    "print(\"Saved recipe ingredient bows to recipe_ingredient_bows.pkl\")"
   ]
  },
  {
   "cell_type": "code",
   "execution_count": null,
   "metadata": {},
   "outputs": [],
   "source": []
  }
 ],
 "metadata": {
  "kernelspec": {
   "display_name": "Python 3",
   "language": "python",
   "name": "python3"
  },
  "language_info": {
   "codemirror_mode": {
    "name": "ipython",
    "version": 3
   },
   "file_extension": ".py",
   "mimetype": "text/x-python",
   "name": "python",
   "nbconvert_exporter": "python",
   "pygments_lexer": "ipython3",
   "version": "3.7.6"
  }
 },
 "nbformat": 4,
 "nbformat_minor": 4
}
